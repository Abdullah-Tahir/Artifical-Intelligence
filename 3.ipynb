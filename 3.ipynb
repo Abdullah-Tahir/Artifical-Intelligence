{
 "cells": [
  {
   "cell_type": "code",
   "execution_count": 44,
   "id": "ea66be2d",
   "metadata": {},
   "outputs": [],
   "source": [
    "\n",
    "\n",
    "\n",
    "import pandas as pd\n",
    "import numpy as np"
   ]
  },
  {
   "cell_type": "code",
   "execution_count": 45,
   "id": "6132b079",
   "metadata": {},
   "outputs": [],
   "source": [
    "df = pd.DataFrame(np.array([[0,0,0],[0,1,1],[1,0,1],[1,1,0]]),columns=['x1','x2','label'])"
   ]
  },
  {
   "cell_type": "code",
   "execution_count": 46,
   "id": "f7b747e1",
   "metadata": {},
   "outputs": [
    {
     "data": {
      "text/html": [
       "<div>\n",
       "<style scoped>\n",
       "    .dataframe tbody tr th:only-of-type {\n",
       "        vertical-align: middle;\n",
       "    }\n",
       "\n",
       "    .dataframe tbody tr th {\n",
       "        vertical-align: top;\n",
       "    }\n",
       "\n",
       "    .dataframe thead th {\n",
       "        text-align: right;\n",
       "    }\n",
       "</style>\n",
       "<table border=\"1\" class=\"dataframe\">\n",
       "  <thead>\n",
       "    <tr style=\"text-align: right;\">\n",
       "      <th></th>\n",
       "      <th>x1</th>\n",
       "      <th>x2</th>\n",
       "      <th>label</th>\n",
       "    </tr>\n",
       "  </thead>\n",
       "  <tbody>\n",
       "    <tr>\n",
       "      <th>0</th>\n",
       "      <td>0</td>\n",
       "      <td>0</td>\n",
       "      <td>0</td>\n",
       "    </tr>\n",
       "    <tr>\n",
       "      <th>1</th>\n",
       "      <td>0</td>\n",
       "      <td>1</td>\n",
       "      <td>1</td>\n",
       "    </tr>\n",
       "    <tr>\n",
       "      <th>2</th>\n",
       "      <td>1</td>\n",
       "      <td>0</td>\n",
       "      <td>1</td>\n",
       "    </tr>\n",
       "    <tr>\n",
       "      <th>3</th>\n",
       "      <td>1</td>\n",
       "      <td>1</td>\n",
       "      <td>0</td>\n",
       "    </tr>\n",
       "  </tbody>\n",
       "</table>\n",
       "</div>"
      ],
      "text/plain": [
       "   x1  x2  label\n",
       "0   0   0      0\n",
       "1   0   1      1\n",
       "2   1   0      1\n",
       "3   1   1      0"
      ]
     },
     "execution_count": 46,
     "metadata": {},
     "output_type": "execute_result"
    }
   ],
   "source": [
    "df"
   ]
  },
  {
   "cell_type": "code",
   "execution_count": 47,
   "id": "a8e4838a",
   "metadata": {},
   "outputs": [
    {
     "data": {
      "text/plain": [
       "array([[0.99738277],\n",
       "       [0.52883812]])"
      ]
     },
     "execution_count": 47,
     "metadata": {},
     "output_type": "execute_result"
    }
   ],
   "source": [
    "W = np.random.rand(2,1)\n",
    "W\n"
   ]
  },
  {
   "cell_type": "code",
   "execution_count": 48,
   "id": "c42c864c",
   "metadata": {},
   "outputs": [
    {
     "data": {
      "text/plain": [
       "0.13933344295684325"
      ]
     },
     "execution_count": 48,
     "metadata": {},
     "output_type": "execute_result"
    }
   ],
   "source": [
    "b= np.random.rand()\n",
    "b"
   ]
  },
  {
   "cell_type": "code",
   "execution_count": 49,
   "id": "4166393d",
   "metadata": {},
   "outputs": [
    {
     "data": {
      "text/plain": [
       "(2, 4)"
      ]
     },
     "execution_count": 49,
     "metadata": {},
     "output_type": "execute_result"
    }
   ],
   "source": [
    "x=np.array(df[['x1','x2']])\n",
    "y=np.array(df['label'])\n",
    "x=x.T\n",
    "x,y\n",
    "x.shape\n"
   ]
  },
  {
   "cell_type": "code",
   "execution_count": 50,
   "id": "a9b3fcd5",
   "metadata": {},
   "outputs": [],
   "source": [
    "def sigmoid(z):\n",
    "    return 1/(1 + np.exp(-z))"
   ]
  },
  {
   "cell_type": "code",
   "execution_count": 51,
   "id": "933258a3",
   "metadata": {},
   "outputs": [],
   "source": [
    "from sklearn.metrics import log_loss\n",
    "J = log_loss(y,A)"
   ]
  },
  {
   "cell_type": "code",
   "execution_count": 55,
   "id": "fd05239a",
   "metadata": {},
   "outputs": [
    {
     "name": "stdout",
     "output_type": "stream",
     "text": [
      "17.269388197455342\n",
      "17.26978799617044\n",
      "17.269388197455342\n",
      "17.26978799617044\n",
      "17.269388197455342\n",
      "17.26978799617044\n",
      "17.269388197455342\n",
      "17.26978799617044\n",
      "17.269388197455342\n",
      "17.26978799617044\n",
      "17.269388197455342\n",
      "17.26978799617044\n",
      "17.269388197455342\n",
      "17.26978799617044\n",
      "17.269388197455342\n",
      "17.26978799617044\n",
      "17.269388197455342\n",
      "17.26978799617044\n",
      "17.269388197455342\n",
      "17.26978799617044\n",
      "17.269388197455342\n",
      "17.26978799617044\n",
      "17.269388197455342\n",
      "17.26978799617044\n",
      "17.269388197455342\n",
      "17.26978799617044\n",
      "17.269388197455342\n",
      "17.26978799617044\n",
      "17.269388197455342\n",
      "17.26978799617044\n",
      "17.269388197455342\n",
      "17.26978799617044\n",
      "17.269388197455342\n",
      "17.26978799617044\n",
      "17.269388197455342\n",
      "17.26978799617044\n",
      "17.269388197455342\n",
      "17.26978799617044\n",
      "17.269388197455342\n",
      "17.26978799617044\n",
      "17.269388197455342\n",
      "17.26978799617044\n",
      "17.269388197455342\n",
      "17.26978799617044\n",
      "17.269388197455342\n",
      "17.26978799617044\n",
      "17.269388197455342\n",
      "17.26978799617044\n",
      "17.269388197455342\n",
      "17.26978799617044\n",
      "17.269388197455342\n",
      "17.26978799617044\n",
      "17.269388197455342\n",
      "17.26978799617044\n",
      "17.269388197455342\n",
      "17.26978799617044\n",
      "17.269388197455342\n",
      "17.26978799617044\n",
      "17.269388197455342\n",
      "17.26978799617044\n",
      "17.269388197455342\n",
      "17.26978799617044\n",
      "17.269388197455342\n",
      "17.26978799617044\n",
      "17.269388197455342\n",
      "17.26978799617044\n",
      "17.269388197455342\n",
      "17.26978799617044\n",
      "17.269388197455342\n",
      "17.26978799617044\n",
      "17.269388197455342\n",
      "17.26978799617044\n",
      "17.269388197455342\n",
      "17.26978799617044\n",
      "17.269388197455342\n",
      "17.26978799617044\n",
      "17.269388197455342\n",
      "17.26978799617044\n",
      "17.269388197455342\n",
      "17.26978799617044\n",
      "17.269388197455342\n",
      "17.26978799617044\n",
      "17.269388197455342\n",
      "17.26978799617044\n",
      "17.269388197455342\n",
      "17.26978799617044\n",
      "17.269388197455342\n",
      "17.26978799617044\n",
      "17.269388197455342\n",
      "17.26978799617044\n",
      "17.269388197455342\n",
      "17.26978799617044\n",
      "17.269388197455342\n",
      "17.26978799617044\n",
      "17.269388197455342\n",
      "17.26978799617044\n",
      "17.269388197455342\n",
      "17.26978799617044\n",
      "17.269388197455342\n",
      "17.26978799617044\n"
     ]
    }
   ],
   "source": [
    "\n",
    "\n",
    "alpha = 0.01\n",
    "for i in range (100):\n",
    "    Z =np.dot(W.T,x)+b\n",
    "    A = sigmoid(Z)\n",
    "    A = np.where(A < 0.5, 0, 1)\n",
    "    A = A.squeeze()\n",
    "    \n",
    "    J = log_loss(y,A)\n",
    "    print(J)\n",
    "    \n",
    "    dz = A - y\n",
    "    dz.shape\n",
    "    dz = np.expand_dims(dz,axis = 0)\n",
    "    dw =  np.dot(x,dz.T)/x.shape[0]\n",
    "    db = np.sum(dz,axis =1)/x.shape[0]\n",
    "    W = W - alpha * dw\n",
    "    b = b - alpha * db\n",
    "    \n",
    "\n"
   ]
  },
  {
   "cell_type": "code",
   "execution_count": 63,
   "id": "032bff9b",
   "metadata": {},
   "outputs": [
    {
     "data": {
      "text/plain": [
       "array([[0, 2],\n",
       "       [0, 2]], dtype=int64)"
      ]
     },
     "execution_count": 63,
     "metadata": {},
     "output_type": "execute_result"
    }
   ],
   "source": [
    "from sklearn.metrics import confusion_matrix\n",
    "a=confusion_matrix(y,A)\n",
    "a"
   ]
  },
  {
   "cell_type": "code",
   "execution_count": 64,
   "id": "7a9f7db8",
   "metadata": {},
   "outputs": [
    {
     "data": {
      "text/plain": [
       "array([0, 1, 1, 0])"
      ]
     },
     "execution_count": 64,
     "metadata": {},
     "output_type": "execute_result"
    }
   ],
   "source": [
    "y"
   ]
  },
  {
   "cell_type": "code",
   "execution_count": 61,
   "id": "a0e62fcb",
   "metadata": {},
   "outputs": [
    {
     "data": {
      "text/plain": [
       "array([1, 1, 1, 1])"
      ]
     },
     "execution_count": 61,
     "metadata": {},
     "output_type": "execute_result"
    }
   ],
   "source": [
    "A"
   ]
  },
  {
   "cell_type": "code",
   "execution_count": null,
   "id": "014929f1",
   "metadata": {},
   "outputs": [],
   "source": []
  },
  {
   "cell_type": "code",
   "execution_count": null,
   "id": "afc17e76",
   "metadata": {},
   "outputs": [],
   "source": []
  },
  {
   "cell_type": "code",
   "execution_count": null,
   "id": "6226ae14",
   "metadata": {},
   "outputs": [],
   "source": []
  }
 ],
 "metadata": {
  "kernelspec": {
   "display_name": "Python 3",
   "language": "python",
   "name": "python3"
  },
  "language_info": {
   "codemirror_mode": {
    "name": "ipython",
    "version": 3
   },
   "file_extension": ".py",
   "mimetype": "text/x-python",
   "name": "python",
   "nbconvert_exporter": "python",
   "pygments_lexer": "ipython3",
   "version": "3.8.8"
  }
 },
 "nbformat": 4,
 "nbformat_minor": 5
}
